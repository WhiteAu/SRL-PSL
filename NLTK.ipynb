{
 "metadata": {
  "name": "NLTK"
 },
 "nbformat": 3,
 "nbformat_minor": 0,
 "worksheets": [
  {
   "cells": [
    {
     "cell_type": "heading",
     "level": 1,
     "metadata": {},
     "source": [
      "NLTK corpus readers"
     ]
    },
    {
     "cell_type": "code",
     "collapsed": false,
     "input": [
      "import nltk"
     ],
     "language": "python",
     "metadata": {},
     "outputs": [],
     "prompt_number": 3
    },
    {
     "cell_type": "markdown",
     "metadata": {},
     "source": [
      "NLTK (I installed with sudo pip install nltk) can download some corpora for you.  This seems to be a mixture of whole corpora, partial corpora and stubs for corpora.\n",
      "\n",
      "* http://nltk.org\n",
      "\n",
      "* http://nltk.org/nltk_data/\n",
      "\n",
      "* http://freecode.com/articles/processing-corpora-with-python-and-the-natural-language-toolkit"
     ]
    },
    {
     "cell_type": "code",
     "collapsed": false,
     "input": [
      "nltk.download('brown')"
     ],
     "language": "python",
     "metadata": {},
     "outputs": [
      {
       "output_type": "stream",
       "stream": "stdout",
       "text": [
        "[nltk_data] Downloading package 'brown' to /Users/alex/nltk_data...\n",
        "[nltk_data]   Package brown is already up-to-date!\n"
       ]
      },
      {
       "output_type": "pyout",
       "prompt_number": 11,
       "text": [
        "True"
       ]
      }
     ],
     "prompt_number": 11
    },
    {
     "cell_type": "markdown",
     "metadata": {},
     "source": [
      "Some example stuff to do with NLTK on a downloaded corpus."
     ]
    },
    {
     "cell_type": "code",
     "collapsed": false,
     "input": [
      "from nltk.corpus import brown\n",
      "brown_news_tagged = brown.tagged_words(categories='news', simplify_tags=True)\n",
      "tag_fd = nltk.FreqDist(tag for (word, tag) in brown_news_tagged)\n",
      "print(tag_fd.keys())"
     ],
     "language": "python",
     "metadata": {},
     "outputs": [
      {
       "output_type": "stream",
       "stream": "stdout",
       "text": [
        "['N', 'DET', 'P', 'NP', 'V', 'ADJ', ',', '.', 'CNJ', 'PRO', 'ADV', 'VD', 'NUM', 'VN', 'VG', 'TO', 'WH', 'MOD', '``', \"''\", 'VBZ', '', '*', ')', '(', 'EX', ':', 'FW', \"'\", 'UH', 'VB+PPO']\n"
       ]
      }
     ],
     "prompt_number": 18
    },
    {
     "cell_type": "heading",
     "level": 1,
     "metadata": {},
     "source": [
      "NKTK PropBank 1 corpus"
     ]
    },
    {
     "cell_type": "code",
     "collapsed": false,
     "input": [
      "nltk.download('propbank')"
     ],
     "language": "python",
     "metadata": {},
     "outputs": [
      {
       "output_type": "stream",
       "stream": "stdout",
       "text": [
        "[nltk_data] Downloading package 'propbank' to /Users/alex/nltk_data...\n",
        "[nltk_data]   Package propbank is already up-to-date!\n"
       ]
      },
      {
       "output_type": "pyout",
       "prompt_number": 17,
       "text": [
        "True"
       ]
      }
     ],
     "prompt_number": 17
    },
    {
     "cell_type": "code",
     "collapsed": false,
     "input": [
      "from nltk.corpus import propbank\n",
      "print propbank.readme()"
     ],
     "language": "python",
     "metadata": {},
     "outputs": [
      {
       "output_type": "stream",
       "stream": "stdout",
       "text": [
        "Proposition Bank Corpus 1.0\n",
        "\n",
        "Martha Palmer   http://verbs.colorado.edu/~mpalmer/projects/ace.html\n",
        "\n",
        "Distributed with Permission\n",
        "\n",
        "This directory contains the data of the UPenn Propbank.  This data is collected\n",
        "as an additional layer of annotation on the Penn Treebank, representing the predicate\n",
        "argument structure of verbs.  Below is a list of each file and a description of\n",
        "its contents.\n",
        "\n",
        "\n",
        "File                      Description\n",
        "--------------------------------------------------------------------------------------\n",
        "prop.txt                  The annotated data, file format described below.\n",
        "                          This includes the annotations for the entire Wall \n",
        "                          Street Journal Section of the Penn TreeBank II.\n",
        "                          \n",
        "frames/                   Lexical Guidelines.  The file format for each verb is\n",
        "                          detailed in frames/frameset.dtd\n",
        "\n",
        "vloc.txt                  text file containing verb locations in the penn \n",
        "                          treebank that have been annotated.\n",
        "                          \n",
        "verbs.txt                 verb list for Penn Treebank, Wall Street Journal section.\n",
        "\n",
        "NOTES.txt                 release notes for PropBank I\n",
        "--------------------------------------------------------------------------------------\n",
        "\n",
        "                               Annotation Format.\n",
        "\n",
        "The prop.txt file contains predicate argument structures of verbs.  Each P-A structure\n",
        "is represented in a line of space separated columns.  The columns are as follows\n",
        "\n",
        "  wsj-filename sentence terminal tagger frameset inflection proplabel proplabel ...\n",
        "\n",
        "The content of each column is described in detail below.\n",
        "\n",
        "wsj-filename\n",
        "\tthe name of the file in merged penn treebank, wsj section\n",
        "    \n",
        "sentence\n",
        "\tthe number of the sentence in the file (starting with 0)\n",
        "    \n",
        "terminal\n",
        "\tthe number of the terminal in the sentence that is the location of the\n",
        "\tverb.  note that the terminal number counts empty constituents as\n",
        "\tterminals and starts with 0.  This will hold for all references to\n",
        "\tterminal number in this description.\n",
        "\n",
        "    An example:  \n",
        "        (NP-1 (NN John) (VP (VB wants) (S (NP (-NONE- *-1)) (VP (TO to) (V swim)))))\n",
        "        \n",
        "    The terminal numbers:\n",
        "        John 0; wants 1; *-1 2; to 3; swim 4\n",
        "        \n",
        "tagger\n",
        "    the name of the annotator, or \"gold\" if it's been double annotated and adjudicated.\n",
        "    \n",
        "frameset\n",
        "\n",
        "    The frameset identifier from the frames file of the verb.  For\n",
        "    example, 'dial.01' refers to the frames file for 'dial', (frames/dial.xml)\n",
        "    and the roleset element in that frames file whose attribute 'id' is\n",
        "    'dial.01'.\n",
        "\n",
        "    There are some instances which have yet to be disambiguated, these\n",
        "    are marked as 'lemma.XX'.\n",
        "\n",
        "        \n",
        "inflection\n",
        "    The inflection field consists of 5 characters representing\n",
        "    person, tense, aspect, voice, and form of the verb, respectively.\n",
        "         \n",
        "    Each of the characters may be '-', representing 'none.' \n",
        "\n",
        "    Otherwise, each of the fields character codes follow:\n",
        "\n",
        "    form: i=infinitive g=gerund p=participle v=finite\n",
        "    tense:  f=future p=past n=present\n",
        "    aspect: p=perfect o=progressive b=both perfect and progressive\n",
        "    person: 3=3rd person  \n",
        "    voice: a=active p=passive\n",
        "\n",
        "proplabel\n",
        "\n",
        "    A string representing the annotation associated with a particular argument\n",
        "    or adjunct of the proposition.  Each proplabel is dash '-' delimited and\n",
        "    has the following columns\n",
        "\n",
        "  1) column for the 'syntactic relation'\n",
        "  \n",
        "    The syntactic relation of the argument label.  This can be in one of 4 forms.\n",
        "    \n",
        "    form 1: <terminal number>:<height>\n",
        "      A single node in the syntax tree of the sentence in question, identified\n",
        "      by the first terminal the node spans together with the height from that\n",
        "      terminal to the syntax node (a height of 0 represents a terminal).\n",
        "\n",
        "      For example,  in the sentence\n",
        "      \n",
        "        (S (NP-1 (NN John) (VP (VB wants) (S (NP (-NONE- *-1)) (VP (TO to) (V swim)))))\n",
        "\n",
        "        A syntactic relation of \"2:1\" represents the NP immediately dominating\n",
        "        the terminal \"(-NONE- *-1)\" and a syntactic relation of \"0:2\" represents \n",
        "        the \"S\" node.\n",
        "        \n",
        "    form 2: terminal number:height*terminal number:height*...\n",
        "      \n",
        "      A trace chain identifying coreference within sentence boundaries.\n",
        "\n",
        "      For example in the sentence\n",
        "\n",
        "        ((NP-1 (NN John) (VP (VB wants) (S (NP (-NONE- *-1)) (VP (TO to) (V swim)))))\n",
        "\n",
        "        A syntactic relation of \"2:1*0:1\" represents the NP immediately dominating\n",
        "        (-NONE- *-1) and the NP immediately dominating \"(NN John)\".\n",
        "      \n",
        "      \n",
        "    form 3: terminal number:height,terminal number:height,...\n",
        "    \n",
        "      A split argument, where there is no single node that captures the argument\n",
        "      and the components are not coreferential, eg the utterance in\n",
        "      \"I'm going to\", spoke John, \"take it with me\".  This form is also used\n",
        "      to denote phrasal variants of verbs.  For example, in the phrase fragment\n",
        "\n",
        "      (S (NP (NN John)) (VP (VB keeps) (PRT on) (NP ...)).  The phrasal verb \n",
        "      \"keep_on\" would be identified with the syntactic relation  \"1:0,2:0\".\n",
        "\n",
        "    form 4: terminal number:height,terminal number:height*terminal number:height...\n",
        "\n",
        "      This form is a combination of forms 2 and 3.  When this occurs, the ',' operator\n",
        "      is understood to have precedence over the '*' operator.  For example, in the sentence\n",
        "\n",
        "       (NP (DT a) (NN series) ) \n",
        "           (PP (IN of)(NP (NNS intrigues) ))\n",
        "              (SBAR\n",
        "                (WHNP-4 (WDT that) )\n",
        "                (S\n",
        "                  (NP-SBJ (-NONE- *T*-4) )\n",
        "                  (VP (VBZ has)\n",
        "                    (S\n",
        "                      (NP-SBJ (NN everyone) )\n",
        "                      (VP (VBG fearing)\n",
        "\n",
        "       The proplabel 28:1,30:1*32:1*33:0-ARG0 is to be understood as a trace-chain (form 2), one\n",
        "       of whose constituents is a split argument (form 3) - i.e. grouped like so: \n",
        "       ((28:1,30:1)*32:1*33:0).  The interpretation of this argument is that the \"causer of action\"\n",
        "       (ARG0 of have.04) is signified by the following trace-chain:\n",
        "\n",
        "       *T*-4 --> that --> ([a series][of intrigues])\n",
        "\n",
        "\n",
        "  2) column for the 'label'\n",
        "  \n",
        "    The argument label one of {rel, ARGA, ARGM} + { ARG0, ARG1, ARG2,\n",
        "    ... }.  The argument labels correspond to the argument labels in the frames\n",
        "    files (see ./frames).  ARGA is used for causative agents, ARGM for\n",
        "    adjuncts of various sorts, and 'rel' refers to the surface string of\n",
        "    the verb.\n",
        "\n",
        "  3) column for feature (optional for numbered arguments; required for ARGM)\n",
        "\n",
        "    Argument features can either be a labelled feature, or a preposition.  Labelled \n",
        "    features follow:\n",
        "\n",
        "    EXT - extent\n",
        "    DIR - direction\n",
        "    LOC - location\n",
        "    TMP - temporal\n",
        "    REC - reciprocal\n",
        "    PRD - predication\n",
        "    NEG - negation\n",
        "    MOD - modal\n",
        "    ADV - adverbial\n",
        "    MNR - manner\n",
        "    CAU - cause\n",
        "    PNC - purpose not cause.\n",
        "    DIS - discourse\n",
        "\n",
        "    Prepositions attached to argument labels occur when the argument is tagged on \n",
        "    a PP node.\n",
        "\n",
        "-------------------------------------------------------------------------------------- \n",
        "\n"
       ]
      }
     ],
     "prompt_number": 23
    },
    {
     "cell_type": "code",
     "collapsed": false,
     "input": [],
     "language": "python",
     "metadata": {},
     "outputs": []
    }
   ],
   "metadata": {}
  }
 ]
}