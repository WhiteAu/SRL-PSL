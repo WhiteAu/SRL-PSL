{
 "metadata": {
  "name": "NLTK PropBank"
 }, 
 "nbformat": 2, 
 "worksheets": [
  {
   "cells": [
    {
     "cell_type": "markdown", 
     "source": [
      "NLTK (I installed with sudo pip install nltk) can download some corpora for you. This seems to be a mixture of", 
      "whole corpora, partial corpora and stubs for corpora.", 
      " ", 
      " * http://nltk.org", 
      "", 
      " * http://nltk.org/nltk_data/ ", 
      "", 
      " * http://freecode.com/articles/processing-corpora-with-python-and-the-natural-language-toolkit"
     ]
    }, 
    {
     "cell_type": "code", 
     "collapsed": false, 
     "input": [
      "import nltk", 
      "nltk.download('propbank')"
     ], 
     "language": "python", 
     "outputs": [
      {
       "output_type": "stream", 
       "stream": "stdout", 
       "text": [
        "[nltk_data] Downloading package 'propbank' to /Users/alex/nltk_data...", 
        "[nltk_data]   Package propbank is already up-to-date!"
       ]
      }, 
      {
       "output_type": "stream", 
       "stream": "stdout", 
       "text": [
        ""
       ]
      }, 
      {
       "output_type": "pyout", 
       "prompt_number": 2, 
       "text": [
        "True"
       ]
      }
     ], 
     "prompt_number": 2
    }, 
    {
     "cell_type": "code", 
     "collapsed": true, 
     "input": [
      "from nltk.corpus import propbank", 
      "def vprt(nm,v): print '%-14s %s' % (nm+':',v)", 
      "def ctr(msg): print msg.center(80,'_')", 
      "def ctrs(msg): print msg.center(50,'_')   "
     ], 
     "language": "python", 
     "outputs": [], 
     "prompt_number": 3
    }, 
    {
     "cell_type": "markdown", 
     "source": [
      "All the files available in the downloaded NLTK version of propbank.  Not sure what 'propbank_ptr' corpus is or how it is different."
     ]
    }, 
    {
     "cell_type": "code", 
     "collapsed": false, 
     "input": [
      "print propbank.fileids()[:10]"
     ], 
     "language": "python", 
     "outputs": [
      {
       "output_type": "stream", 
       "stream": "stdout", 
       "text": [
        "['prop.txt', 'verbs.txt', 'frames/abandon.xml', 'frames/abate.xml', 'frames/abdicate.xml', 'frames/abduct.xml', 'frames/abet.xml', 'frames/abide.xml', 'frames/abolish.xml', 'frames/abominate.xml']"
       ]
      }
     ], 
     "prompt_number": 4
    }, 
    {
     "cell_type": "markdown", 
     "source": [
      "They give us a list of the verbs.  Not sure how useful this is to us."
     ]
    }, 
    {
     "cell_type": "code", 
     "collapsed": false, 
     "input": [
      "v = propbank.verbs()", 
      "print v", 
      "print v.fileid"
     ], 
     "language": "python", 
     "outputs": [
      {
       "output_type": "stream", 
       "stream": "stdout", 
       "text": [
        "['abandon', 'abate', 'abdicate', 'abet', 'abide', ...]", 
        "/Users/alex/nltk_data/corpora/propbank/verbs.txt"
       ]
      }
     ], 
     "prompt_number": 5
    }, 
    {
     "cell_type": "markdown", 
     "source": [
      "We'll get general information about the roles for each predicate from the rolesets.  Here's the frame for 'acquire.'"
     ]
    }, 
    {
     "cell_type": "code", 
     "collapsed": false, 
     "input": [
      "f = propbank.raw('frames/acquire.xml')", 
      "print f"
     ], 
     "language": "python", 
     "outputs": [
      {
       "output_type": "stream", 
       "stream": "stdout", 
       "text": [
        "<!DOCTYPE frameset SYSTEM \"frameset.dtd\">", 
        "<frameset>", 
        "<predicate lemma=\"acquire\">", 
        "  <note>", 
        "    based on survey of initial sentences of big corpus", 
        "    and comparison with 'gain' and 'buy'", 
        "  </note>", 
        "<roleset id=\"acquire.01\" name=\"get, acquire\" vncls=\"13.5.2-1 14\">", 
        "<roles>", 
        "  <role descr=\"agent, entity acquiring something\" n=\"0\">", 
        "\t\t", 
        "  <vnrole vncls=\"14\" vntheta=\"Agent\"/><vnrole vncls=\"13.5.2-1\" vntheta=\"Agent\"/></role>", 
        "", 
        "  <role descr=\"thing acquired\" n=\"1\">", 
        "\t\t", 
        "  <vnrole vncls=\"14\" vntheta=\"Topic\"/><vnrole vncls=\"13.5.2-1\" vntheta=\"Theme\"/></role>", 
        "", 
        "  <role descr=\"seller\" n=\"2\">", 
        "\t\t", 
        "  <vnrole vncls=\"14\" vntheta=\"Source\"/><vnrole vncls=\"13.5.2-1\" vntheta=\"Source\"/></role>", 
        "", 
        "  <role descr=\"price paid\" n=\"3\">", 
        "\t\t", 
        "  <vnrole vncls=\"13.5.2-1\" vntheta=\"Asset\"/></role>", 
        "", 
        "  <role descr=\"benefactive\" n=\"4\"/>", 
        "</roles>", 
        "", 
        "<example>", 
        "  <text>", 
        "    New England Electric will acquire PS of New Hampshire.", 
        "  </text>", 
        "  <arg n=\"0\">New England Electric</arg>", 
        "  <rel>acquire</rel>", 
        "  <arg n=\"1\">PS of New Hampshire.</arg>", 
        "</example>", 
        "", 
        "<example>", 
        "  <text>", 
        "    Its Moleculon affiliate acquired Kalipharma Inc for $23 million.", 
        "  </text>", 
        "  <arg n=\"0\">Its Moleculon affiliate</arg>", 
        "  <rel>acquired</rel>", 
        "  <arg n=\"1\">Kalipharma Inc</arg>", 
        "  <arg f=\"for\" n=\"3\">for $23 million.</arg>", 
        "</example>", 
        "</roleset>", 
        "</predicate>", 
        "</frameset>", 
        ""
       ]
      }
     ], 
     "prompt_number": 6
    }, 
    {
     "cell_type": "markdown", 
     "source": [
      "Now let's get out the argument names."
     ]
    }, 
    {
     "cell_type": "code", 
     "collapsed": false, 
     "input": [
      "for id in ['acquire.01','purchase.01','belly-flop.01']:", 
      "    ctrs(id)", 
      "    rs = propbank.roleset(id)", 
      "    vprt('vncls', rs.attrib['vncls'])", 
      "    vprt('id', rs.attrib['id'])", 
      "    vprt('name', rs.attrib['name'])", 
      "    roles = rs[0]", 
      "    for i, role in enumerate(roles.findall('role')):", 
      "        print role.attrib['n'], role.attrib['descr']"
     ], 
     "language": "python", 
     "outputs": [
      {
       "output_type": "stream", 
       "stream": "stdout", 
       "text": [
        "____________________acquire.01____________________", 
        "vncls:         13.5.2-1 14", 
        "id:            acquire.01", 
        "name:          get, acquire", 
        "0 agent, entity acquiring something", 
        "1 thing acquired", 
        "2 seller", 
        "3 price paid", 
        "4 benefactive", 
        "___________________purchase.01____________________", 
        "vncls:         13.5.2-1", 
        "id:            purchase.01", 
        "name:          buy", 
        "0 purchaser", 
        "1 thing purchased", 
        "2 seller", 
        "3 price paid", 
        "4 benefactive", 
        "__________________belly-flop.01___________________", 
        "vncls:         -", 
        "id:            belly-flop.01", 
        "name:          fail spectacularly", 
        "1 thing failing"
       ]
      }
     ], 
     "prompt_number": 7
    }, 
    {
     "cell_type": "markdown", 
     "source": [
      "Let's make a function to get descriptions of args."
     ]
    }, 
    {
     "cell_type": "code", 
     "collapsed": false, 
     "input": [
      "def rsargs(id):", 
      "    rs = propbank.roleset(id)", 
      "    args = {}", 
      "    roles = rs[0]", 
      "    for i, role in enumerate(roles.findall('role')):", 
      "        args['ARG'+role.attrib['n']] = role.attrib['descr']", 
      "    return args", 
      "rsargs('acquire.01')"
     ], 
     "language": "python", 
     "outputs": [
      {
       "output_type": "pyout", 
       "prompt_number": 8, 
       "text": [
        "{'ARG0': 'agent, entity acquiring something',", 
        " 'ARG1': 'thing acquired',", 
        " 'ARG2': 'seller',", 
        " 'ARG3': 'price paid',", 
        " 'ARG4': 'benefactive'}"
       ]
      }
     ], 
     "prompt_number": 8
    }, 
    {
     "cell_type": "markdown", 
     "source": [
      "The instances are the individual verb annotations."
     ]
    }, 
    {
     "cell_type": "code", 
     "collapsed": false, 
     "input": [
      "print propbank.instances()[:2]"
     ], 
     "language": "python", 
     "outputs": [
      {
       "output_type": "stream", 
       "stream": "stdout", 
       "text": [
        "[<PropbankInstance: wsj_0001.mrg, sent 0, word 8>, <PropbankInstance: wsj_0001.mrg, sent 1, word 10>]"
       ]
      }
     ], 
     "prompt_number": 9
    }, 
    {
     "cell_type": "markdown", 
     "source": [
      "Let's loop through some instances of the predicate 'acquire'.  Note that in the arguments, we are often getting an entire tree but if we want to pull out say, just the proper nouns (NNP) we could attempt to do that.  The proper nouns might be a better starting point if we wanted to match the entities to another data source, e.g. Freebase."
     ]
    }, 
    {
     "cell_type": "code", 
     "collapsed": false, 
     "input": [
      "for baseform in ['acquire','purchase']:", 
      "    for i in [i for i in propbank.instances()[:1000] if i.baseform == baseform][:1]:", 
      "        ctr(i.baseform)", 
      "        vprt('fileid',i.fileid)", 
      "        vprt('sentnum',i.sentnum)   ", 
      "        vprt('wordnum',i.wordnum)", 
      "        vprt('roleset',i.roleset)", 
      "        args = rsargs(i.roleset)", 
      "        vprt('inflection',i.inflection)", 
      "        vprt('tagger',i.tagger)", 
      "    ", 
      "        ctrs('sentence')", 
      "        print ' '.join(i.tree.leaves())", 
      "    ", 
      "        ctrs('predicate')", 
      "        vprt('wordnum',i.predicate.wordnum)", 
      "        vprt('height',i.predicate.height)", 
      "        vprt('word', ''.join(i.predicate.select(i.tree)))", 
      "        print i.predicate.select(i.tree)", 
      "        #vprt('parse_corpus',i.parse_corpus)", 
      "    ", 
      "        for a in i.arguments:", 
      "            id = a[1]", 
      "            ctrs(id)", 
      "            if id in args:", 
      "                vprt('descr', args[a[1]])", 
      "                vprt('loc',a[0])", 
      "                t = a[0].select(i.tree)", 
      "                vprt('flat',t.flatten())", 
      "                #vprt('treepos',t.leaf_treeposition())", 
      "                vprt('arg', ' '.join(t.leaves()))", 
      "                print t", 
      "        ", 
      "        ctrs('tree')", 
      "        #vprt('tree leaves', i.tree.leaves())", 
      "        print i.tree", 
      "        print ''"
     ], 
     "language": "python", 
     "outputs": [
      {
       "output_type": "stream", 
       "stream": "stdout", 
       "text": [
        "____________________________________acquire_____________________________________", 
        "fileid:        wsj_0013.mrg", 
        "sentnum:       2", 
        "wordnum:       20", 
        "roleset:       acquire.01", 
        "inflection:    i---a", 
        "tagger:        gold", 
        "_____________________sentence_____________________", 
        "New England Electric , based * in Westborough , Mass. , had offered $ 2 billion *U* *ICH*-1 *-4 to acquire PS of New Hampshire , well below the $ 2.29 billion *U* value 0 United Illuminating places *T*-2 on its bid and the $ 2.25 billion *U* 0 Northeast says 0 its bid is worth *T*-3 .", 
        "____________________predicate_____________________", 
        "wordnum:       20", 
        "height:        0", 
        "word:          acquire", 
        "(VB acquire)", 
        "_______________________ARG0_______________________", 
        "descr:         agent, entity acquiring something", 
        "loc:           0:2*18:0", 
        "flat:          (*CHAIN* New England Electric , based * in Westborough , Mass. , *-4)", 
        "arg:           New England Electric , based * in Westborough , Mass. , *-4", 
        "(*CHAIN*", 
        "  (NP-SBJ-4", 
        "    (NP (NNP New) (NNP England) (NNP Electric))", 
        "    (, ,)", 
        "    (VP", 
        "      (VBN based)", 
        "      (NP (-NONE- *))", 
        "      (PP-LOC-CLR", 
        "        (IN in)", 
        "        (NP (NP (NNP Westborough)) (, ,) (NP (NNP Mass.)))))", 
        "    (, ,))", 
        "  (-NONE- *-4))", 
        "_______________________ARG1_______________________", 
        "descr:         thing acquired", 
        "loc:           21:2", 
        "flat:          (NP PS of New Hampshire)", 
        "arg:           PS of New Hampshire", 
        "(NP (NP (NNP PS)) (PP (IN of) (NP (NNP New) (NNP Hampshire))))", 
        "_______________________tree_______________________", 
        "(S", 
        "  (NP-SBJ-4", 
        "    (NP (NNP New) (NNP England) (NNP Electric))", 
        "    (, ,)", 
        "    (VP", 
        "      (VBN based)", 
        "      (NP (-NONE- *))", 
        "      (PP-LOC-CLR", 
        "        (IN in)", 
        "        (NP (NP (NNP Westborough)) (, ,) (NP (NNP Mass.)))))", 
        "    (, ,))", 
        "  (VP", 
        "    (VBD had)", 
        "    (VP", 
        "      (VBN offered)", 
        "      (NP", 
        "        (NP (QP ($ $) (CD 2) (CD billion)) (-NONE- *U*))", 
        "        (PP (-NONE- *ICH*-1)))", 
        "      (S-PRP", 
        "        (NP-SBJ (-NONE- *-4))", 
        "        (VP", 
        "          (TO to)", 
        "          (VP", 
        "            (VB acquire)", 
        "            (NP", 
        "              (NP (NNP PS))", 
        "              (PP (IN of) (NP (NNP New) (NNP Hampshire)))))))", 
        "      (, ,)", 
        "      (PP-1", 
        "        (ADVP (RB well))", 
        "        (IN below)", 
        "        (NP", 
        "          (NP", 
        "            (NP", 
        "              (DT the)", 
        "              (ADJP (QP ($ $) (CD 2.29) (CD billion)) (-NONE- *U*))", 
        "              (NN value))", 
        "            (SBAR", 
        "              (WHNP-2 (-NONE- 0))", 
        "              (S", 
        "                (NP-SBJ (NNP United) (NNP Illuminating))", 
        "                (VP", 
        "                  (NNS places)", 
        "                  (NP (-NONE- *T*-2))", 
        "                  (PP-DIR (IN on) (NP (PRP$ its) (NN bid)))))))", 
        "          (CC and)", 
        "          (NP", 
        "            (NP", 
        "              (DT the)", 
        "              (QP ($ $) (CD 2.25) (CD billion))", 
        "              (-NONE- *U*))", 
        "            (SBAR", 
        "              (WHNP-3 (-NONE- 0))", 
        "              (S", 
        "                (NP-SBJ (NNP Northeast))", 
        "                (VP", 
        "                  (VBZ says)", 
        "                  (SBAR", 
        "                    (-NONE- 0)", 
        "                    (S", 
        "                      (NP-SBJ (PRP$ its) (NN bid))", 
        "                      (VP", 
        "                        (VBZ is)", 
        "                        (ADJP-PRD (IN worth) (NP (-NONE- *T*-3))))))))))))))", 
        "  (. .))", 
        "", 
        "____________________________________purchase____________________________________"
       ]
      }, 
      {
       "output_type": "stream", 
       "stream": "stdout", 
       "text": [
        "", 
        "fileid:        wsj_0036.mrg", 
        "sentnum:       4", 
        "wordnum:       1", 
        "roleset:       purchase.01", 
        "inflection:    p---a", 
        "tagger:        gold", 
        "_____________________sentence_____________________", 
        "The purchasing managers , however , also said that orders turned up in October after four months of decline .", 
        "____________________predicate_____________________", 
        "wordnum:       1", 
        "height:        0", 
        "word:          purchasing", 
        "(VBG purchasing)", 
        "_______________________ARG0_______________________", 
        "descr:         purchaser", 
        "loc:           2:0", 
        "flat:          (NNS managers)", 
        "arg:           managers", 
        "(NNS managers)", 
        "_______________________tree_______________________", 
        "(S", 
        "  (NP-SBJ (DT The) (VBG purchasing) (NNS managers))", 
        "  (, ,)", 
        "  (ADVP (RB however))", 
        "  (, ,)", 
        "  (ADVP (RB also))", 
        "  (VP", 
        "    (VBD said)", 
        "    (SBAR", 
        "      (IN that)", 
        "      (S", 
        "        (NP-SBJ (NNS orders))", 
        "        (VP", 
        "          (VBD turned)", 
        "          (ADVP-CLR (RB up))", 
        "          (PP-TMP (IN in) (NP (NNP October)))", 
        "          (PP-TMP", 
        "            (IN after)", 
        "            (NP", 
        "              (NP (CD four) (NNS months))", 
        "              (PP (IN of) (NP (NN decline)))))))))", 
        "  (. .))", 
        ""
       ]
      }
     ], 
     "prompt_number": 16
    }, 
    {
     "cell_type": "code", 
     "collapsed": true, 
     "input": [], 
     "language": "python", 
     "outputs": []
    }
   ]
  }
 ]
}