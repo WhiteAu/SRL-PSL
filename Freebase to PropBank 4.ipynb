{
 "metadata": {
  "name": "Freebase to PropBank 4"
 }, 
 "nbformat": 2, 
 "worksheets": [
  {
   "cells": [
    {
     "cell_type": "markdown", 
     "source": [
      "From last notebook..."
     ]
    }, 
    {
     "cell_type": "code", 
     "collapsed": true, 
     "input": [
      "from nltk.corpus import treebank as tb", 
      "words = [(fileid,sentnum,wordnum,word) ", 
      "         for fileid in tb.fileids()[:1]", 
      "         for sentnum,sent in enumerate(tb.tagged_sents(fileid))", 
      "         for wordnum,(word,pos) in enumerate(sent)", 
      "         if pos in ['NNP','NNPS']]", 
      "", 
      "from sets import Set", 
      "sents = [", 
      "         {'fileid':fileid, ", 
      "          'sentnum':sentnum, ", 
      "          'nnp':Set([word for word,pos in sent if pos in ['NNP','NNPS']]),", 
      "          'nnp_loc':{word:wordnum for wordnum,(word,pos) in enumerate(sent) if pos in ['NNP','NNPS']},", 
      "          'word_loc':{word:wordnum for wordnum,(word,pos) in enumerate(sent)}", 
      "          } ", 
      "         for fileid in tb.fileids()", 
      "         for sentnum,sent in enumerate(tb.tagged_sents(fileid))", 
      "         ]"
     ], 
     "language": "python", 
     "outputs": [], 
     "prompt_number": 1
    }, 
    {
     "cell_type": "markdown", 
     "source": [
      "Generate proper PB output now.  We are getting matches (new training instances) for some of the FB relations.", 
      "", 
      "* acquisition: 22", 
      "", 
      "* sponsorship: 0", 
      "", 
      "* company_advisor: 0", 
      "", 
      "* company_product_relationship: ", 
      "", 
      "* holding:", 
      "", 
      "* employment_tenure:  at least 2 - need to rerun (this is a much longer list than the others)", 
      "", 
      "* issue:"
     ]
    }, 
    {
     "cell_type": "code", 
     "collapsed": false, 
     "input": [
      "from nltk.tokenize import word_tokenize", 
      "from nltk.metrics import edit_distance", 
      "from FB_to_PB import *", 
      "f2p = fb_to_pb_map('FB_to_PB.csv')", 
      "fb_dir = 'tmp.business_Freebase'", 
      "for fbr in [", 
      "            #'acquisition'", 
      "            #'sponsorship',", 
      "            #'company_advisor',", 
      "            'holding',", 
      "            'company_product_relationship',", 
      "            'issue',", 
      "            'employment_tenure'", 
      "            ]:", 
      "    ctr('FBR: %s'%fbr)", 
      "    pbr = f2p[fbr]['PROPBANK_RELATION']", 
      "    pb = pb_instances(fb_dir,fbr,f2p)", 
      "    for pbi_num,pbi in enumerate(pb):", 
      "        if len([word for arg,word in pbi.iteritems() if word.strip() == '']) > 0:", 
      "            continue", 
      "            ", 
      "        pbi_words = Set([token ", 
      "                         for arg,word in pbi.iteritems() ", 
      "                         for token in word_tokenize(word) ", 
      "                         if token not in [',','.']])", 
      "        ", 
      "        tb_sents = [sent for sent in sents if pbi_words.issubset(sent['nnp'])]", 
      "        if(len(tb_sents) > 0):", 
      "            for sent in tb_sents:", 
      "                rel_dist = [(wordnum,word,edit_distance(pbr,word)) for wordnum,word in enumerate(sent['word_loc'])]", 
      "                (rel_wordnum, rel_word, rel_edit_dist) = sorted(rel_dist, key=lambda tup:tup[2])[0]", 
      "", 
      "                roleset = '%s.01'%pbr", 
      "                inflection = '-----'", 
      "                print '%s %d %d FB2PB %s %s' % (sent['fileid'], sent['sentnum'], rel_wordnum, roleset, inflection),", 
      "                for arg,word in pbi.iteritems():", 
      "                    (long_tok_len, long_tok) = sorted([(len(token),token) for token in word_tokenize(word)], key=lambda tup:tup[0], reverse=True)[0]", 
      "                    arg_word_num = sent['word_loc'][long_tok]", 
      "                    print '%d:0-%s' % (arg_word_num,arg),", 
      "                ", 
      "                print ''"
     ], 
     "language": "python", 
     "outputs": [
      {
       "output_type": "stream", 
       "stream": "stdout", 
       "text": [
        "________________________________FBR: sponsorship________________________________", 
        "______________________________FBR: company_advisor______________________________"
       ]
      }, 
      {
       "output_type": "stream", 
       "stream": "stdout", 
       "text": [
        "", 
        "_____________________________FBR: employment_tenure_____________________________"
       ]
      }, 
      {
       "output_type": "stream", 
       "stream": "stdout", 
       "text": [
        "", 
        "wsj_1677.mrg 25 24 FB2PB employ.01 -----"
       ]
      }, 
      {
       "output_type": "stream", 
       "stream": "stdout", 
       "text": [
        " 18:0-ARG0 21:0-ARG1 ", 
        "wsj_0981.mrg 4 17 FB2PB employ.01 -----"
       ]
      }, 
      {
       "ename": "KeyboardInterrupt", 
       "evalue": "", 
       "output_type": "pyerr", 
       "traceback": [
        "\u001b[0;31m---------------------------------------------------------------------------\u001b[0m\n\u001b[0;31mKeyboardInterrupt\u001b[0m                         Traceback (most recent call last)", 
        "\u001b[0;32m/Users/alex/projects/cmsc723_Final_Project/<ipython-input-10-f8b0b25ac5d6>\u001b[0m in \u001b[0;36m<module>\u001b[0;34m()\u001b[0m\n\u001b[1;32m     25\u001b[0m                          if token not in [',','.']])\n\u001b[1;32m     26\u001b[0m \u001b[0;34m\u001b[0m\u001b[0m\n\u001b[0;32m---> 27\u001b[0;31m         \u001b[0mtb_sents\u001b[0m \u001b[0;34m=\u001b[0m \u001b[0;34m[\u001b[0m\u001b[0msent\u001b[0m \u001b[0;32mfor\u001b[0m \u001b[0msent\u001b[0m \u001b[0;32min\u001b[0m \u001b[0msents\u001b[0m \u001b[0;32mif\u001b[0m \u001b[0mpbi_words\u001b[0m\u001b[0;34m.\u001b[0m\u001b[0missubset\u001b[0m\u001b[0;34m(\u001b[0m\u001b[0msent\u001b[0m\u001b[0;34m[\u001b[0m\u001b[0;34m'nnp'\u001b[0m\u001b[0;34m]\u001b[0m\u001b[0;34m)\u001b[0m\u001b[0;34m]\u001b[0m\u001b[0;34m\u001b[0m\u001b[0m\n\u001b[0m\u001b[1;32m     28\u001b[0m         \u001b[0;32mif\u001b[0m\u001b[0;34m(\u001b[0m\u001b[0mlen\u001b[0m\u001b[0;34m(\u001b[0m\u001b[0mtb_sents\u001b[0m\u001b[0;34m)\u001b[0m \u001b[0;34m>\u001b[0m \u001b[0;36m0\u001b[0m\u001b[0;34m)\u001b[0m\u001b[0;34m:\u001b[0m\u001b[0;34m\u001b[0m\u001b[0m\n\u001b[1;32m     29\u001b[0m             \u001b[0;32mfor\u001b[0m \u001b[0msent\u001b[0m \u001b[0;32min\u001b[0m \u001b[0mtb_sents\u001b[0m\u001b[0;34m:\u001b[0m\u001b[0;34m\u001b[0m\u001b[0m\n", 
        "\u001b[0;32m/Library/Frameworks/Python.framework/Versions/7.3/lib/python2.7/sets.pyc\u001b[0m in \u001b[0;36missubset\u001b[0;34m(self, other)\u001b[0m\n\u001b[1;32m    290\u001b[0m         \u001b[0;34m\"\"\"Report whether another set contains this set.\"\"\"\u001b[0m\u001b[0;34m\u001b[0m\u001b[0m\n\u001b[1;32m    291\u001b[0m         \u001b[0mself\u001b[0m\u001b[0;34m.\u001b[0m\u001b[0m_binary_sanity_check\u001b[0m\u001b[0;34m(\u001b[0m\u001b[0mother\u001b[0m\u001b[0;34m)\u001b[0m\u001b[0;34m\u001b[0m\u001b[0m\n\u001b[0;32m--> 292\u001b[0;31m         \u001b[0;32mif\u001b[0m \u001b[0mlen\u001b[0m\u001b[0;34m(\u001b[0m\u001b[0mself\u001b[0m\u001b[0;34m)\u001b[0m \u001b[0;34m>\u001b[0m \u001b[0mlen\u001b[0m\u001b[0;34m(\u001b[0m\u001b[0mother\u001b[0m\u001b[0;34m)\u001b[0m\u001b[0;34m:\u001b[0m  \u001b[0;31m# Fast check for obvious cases\u001b[0m\u001b[0;34m\u001b[0m\u001b[0m\n\u001b[0m\u001b[1;32m    293\u001b[0m             \u001b[0;32mreturn\u001b[0m \u001b[0mFalse\u001b[0m\u001b[0;34m\u001b[0m\u001b[0m\n\u001b[1;32m    294\u001b[0m         \u001b[0;32mfor\u001b[0m \u001b[0melt\u001b[0m \u001b[0;32min\u001b[0m \u001b[0mifilterfalse\u001b[0m\u001b[0;34m(\u001b[0m\u001b[0mother\u001b[0m\u001b[0;34m.\u001b[0m\u001b[0m_data\u001b[0m\u001b[0;34m.\u001b[0m\u001b[0m__contains__\u001b[0m\u001b[0;34m,\u001b[0m \u001b[0mself\u001b[0m\u001b[0;34m)\u001b[0m\u001b[0;34m:\u001b[0m\u001b[0;34m\u001b[0m\u001b[0m\n", 
        "\u001b[0;31mKeyboardInterrupt\u001b[0m: "
       ]
      }, 
      {
       "output_type": "stream", 
       "stream": "stdout", 
       "text": [
        " 14:0-ARG0 11:0-ARG1 "
       ]
      }
     ], 
     "prompt_number": 10
    }, 
    {
     "cell_type": "code", 
     "collapsed": true, 
     "input": [], 
     "language": "python", 
     "outputs": []
    }, 
    {
     "cell_type": "code", 
     "collapsed": true, 
     "input": [], 
     "language": "python", 
     "outputs": []
    }
   ]
  }
 ]
}