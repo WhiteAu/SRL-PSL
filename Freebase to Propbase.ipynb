{
 "metadata": {
  "name": "Freebase to Propbase"
 }, 
 "nbformat": 2, 
 "worksheets": [
  {
   "cells": [
    {
     "cell_type": "markdown", 
     "source": [
      "A file that maps Freebase relations and arguments to PropBank relations and arguments."
     ]
    }, 
    {
     "cell_type": "code", 
     "collapsed": false, 
     "input": [
      "f = open('FB_to_PB.csv','r')", 
      "for line in f.readlines(): print line.strip()", 
      "f.close()"
     ], 
     "language": "python", 
     "outputs": [
      {
       "output_type": "stream", 
       "stream": "stdout", 
       "text": [
        "fb_rel,pb_rel,fb_arg,pb_arg", 
        "acquisition,acquire,company_acquired,ARG1", 
        "acquisition,acquire,acquiring_company,ARG0", 
        ""
       ]
      }
     ], 
     "prompt_number": 51
    }, 
    {
     "cell_type": "markdown", 
     "source": [
      "A function that reads the mappings file."
     ]
    }, 
    {
     "cell_type": "code", 
     "collapsed": false, 
     "input": [
      "def fb_to_pb_map(map_file):  ", 
      "    f2p = {}", 
      "    f = open(map_file,'r')", 
      "    header=True", 
      "    for line in f:", 
      "        if header or line.strip()=='':", 
      "            header=False", 
      "            continue", 
      "        (fbr,pbr,fba,pba) = line.strip().split(',')", 
      "        if fbr not in f2p: f2p[fbr]={}", 
      "        f2p[fbr][fba] = pba", 
      "    f.close()", 
      "    return f2p"
     ], 
     "language": "python", 
     "outputs": [], 
     "prompt_number": 57
    }, 
    {
     "cell_type": "markdown", 
     "source": [
      "Use the function on the file."
     ]
    }, 
    {
     "cell_type": "code", 
     "collapsed": false, 
     "input": [
      "f2p = fb_to_pb_map('FB_to_PB.csv')", 
      "print f2p"
     ], 
     "language": "python", 
     "outputs": [
      {
       "output_type": "stream", 
       "stream": "stdout", 
       "text": [
        "{'acquisition': {'company_acquired': 'ARG1', 'acquiring_company': 'ARG0'}}"
       ]
      }
     ], 
     "prompt_number": 58
    }, 
    {
     "cell_type": "markdown", 
     "source": [
      "A function that, given a FB instance file, e.g. business/acquisition.tsv, returns a list of new PB instances."
     ]
    }, 
    {
     "cell_type": "code", 
     "collapsed": false, 
     "input": [
      "import csv", 
      "def pb_instances(fb_file, f2p_map):", 
      "    pb = []", 
      "    with open(fb_file,'r') as f:", 
      "        for row in csv.DictReader(f,delimiter='\\t'):", 
      "            pb.append({f2p[fbr][key]:value for (key,value) in row.iteritems() if key in f2p[fbr]})", 
      "", 
      "    return pb"
     ], 
     "language": "python", 
     "outputs": [], 
     "prompt_number": 54
    }, 
    {
     "cell_type": "markdown", 
     "source": [
      "Test out the PB instance function on the acquisition file."
     ]
    }, 
    {
     "cell_type": "code", 
     "collapsed": false, 
     "input": [
      "fbr = 'acquisition'", 
      "pb = pb_instances('tmp.business_Freebase/%s.tsv'%fbr, f2p)", 
      "print pb[:10]"
     ], 
     "language": "python", 
     "outputs": [
      {
       "output_type": "stream", 
       "stream": "stdout", 
       "text": [
        "[{'ARG0': 'Art.com', 'ARG1': 'AllPosters.com'}, {'ARG0': 'Hewlett-Packard', 'ARG1': 'VoodooPC'}, {'ARG0': 'InBev', 'ARG1': 'Anheuser-Busch'}, {'ARG0': 'Sugar, Inc.', 'ARG1': 'Coutorture'}, {'ARG0': 'Scripps Network', 'ARG1': 'Incando Corporation'}, {'ARG0': 'Vast', 'ARG1': 'Edgeio'}, {'ARG0': 'Comcast', 'ARG1': 'TechTV'}, {'ARG0': 'Microsoft', 'ARG1': 'Jellyfish'}, {'ARG0': 'MSNBC Interactive', 'ARG1': 'Newsvine'}, {'ARG0': 'Pearson PLC', 'ARG1': 'Longman Publishing Group'}]"
       ]
      }
     ], 
     "prompt_number": 55
    }, 
    {
     "cell_type": "code", 
     "collapsed": true, 
     "input": [], 
     "language": "python", 
     "outputs": []
    }
   ]
  }
 ]
}